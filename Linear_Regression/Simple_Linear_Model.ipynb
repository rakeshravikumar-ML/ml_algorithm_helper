{
  "nbformat": 4,
  "nbformat_minor": 0,
  "metadata": {
    "colab": {
      "provenance": []
    },
    "kernelspec": {
      "name": "python3",
      "display_name": "Python 3"
    },
    "language_info": {
      "name": "python"
    }
  },
  "cells": [
    {
      "cell_type": "code",
      "execution_count": null,
      "metadata": {
        "id": "TcjCFisu9JH1"
      },
      "outputs": [],
      "source": [
        "# Data Source - https://drive.google.com/drive/folders/10SUoVOHnv95fLr-w2HSktjQUd96jXA3U?usp=sharing\n",
        "# Data link - https://drive.google.com/file/d/1y4zaEZQPtdG6oXusN7hZG48cx5aXq55R/view?usp=sharing"
      ]
    },
    {
      "cell_type": "markdown",
      "source": [
        "## **1. Importing Required Libraries**"
      ],
      "metadata": {
        "id": "28LANgyxBu0r"
      }
    },
    {
      "cell_type": "code",
      "source": [
        "# Basic Libraries\n",
        "import numpy as np\n",
        "import pandas as pd\n",
        "import matplotlib.pyplot as plt\n",
        "import seaborn as sns\n",
        "\n",
        "# Ignore harmless warnings\n",
        "import warnings\n",
        "warnings.filterwarnings('ignore')\n",
        "\n",
        "# Data Preprocessing libraries\n",
        "from sklearn.model_selection import train_test_split\n",
        "\n",
        "# ols model\n",
        "import statsmodels.api as sm"
      ],
      "metadata": {
        "id": "0EzPmjKX9Z1b"
      },
      "execution_count": null,
      "outputs": []
    },
    {
      "cell_type": "markdown",
      "source": [
        "### **Data Preprocessing Library**\n",
        "```python\n",
        "from sklearn.model_selection import train_test_split\n",
        "```\n",
        "- **`sklearn.model_selection.train_test_split`**: A function to **split the dataset** into training and testing sets.\n",
        "- **Why use it?**\n",
        "  - Machine learning models need separate training and testing data.\n",
        "  - Prevents **data leakage** and ensures proper **generalization**.\n",
        "  - The function automatically **shuffles and splits** the dataset.\n",
        "\n",
        "---\n",
        "\n",
        "### **Importing OLS Model**\n",
        "```python\n",
        "import statsmodels.api as sm\n",
        "```\n",
        "- **`statsmodels.api`**: A Python library for statistical modeling and hypothesis testing.\n",
        "- **Why use it?**\n",
        "  - Provides tools for **Ordinary Least Squares (OLS) regression**.\n",
        "  - Offers detailed statistical results, including **p-values, confidence intervals, and R-squared scores**.\n",
        "  - Used in **econometrics, data science, and predictive modeling**.\n",
        "\n",
        "---\n",
        "\n",
        "This completes the detailed breakdown of the initial setup for **Linear Regression analysis**. Each import plays a critical role in handling data, preprocessing, visualization, or statistical modeling.\n"
      ],
      "metadata": {
        "id": "q3fLGYOt-tm9"
      }
    },
    {
      "cell_type": "markdown",
      "source": [
        "## **2. Importing Data**"
      ],
      "metadata": {
        "id": "T_8dwDO_B-Aw"
      }
    },
    {
      "cell_type": "code",
      "source": [
        "# Importing the data\n",
        "data = pd.read_csv('/content/drive/MyDrive/Datasets/Input/advertising.csv')\n",
        "data.shape"
      ],
      "metadata": {
        "colab": {
          "base_uri": "https://localhost:8080/"
        },
        "id": "ZkNYWL-K9znZ",
        "outputId": "333333a5-3242-4dd9-a026-0162a6ae95bb"
      },
      "execution_count": null,
      "outputs": [
        {
          "output_type": "execute_result",
          "data": {
            "text/plain": [
              "(200, 4)"
            ]
          },
          "metadata": {},
          "execution_count": 2
        }
      ]
    },
    {
      "cell_type": "markdown",
      "source": [
        "## **3. Basic Exploratory Data Analysis**"
      ],
      "metadata": {
        "id": "6uY7zcvyCBB0"
      }
    },
    {
      "cell_type": "code",
      "source": [
        "# Data Sample\n",
        "data.head()"
      ],
      "metadata": {
        "colab": {
          "base_uri": "https://localhost:8080/",
          "height": 206
        },
        "id": "yfwZjBbd-BXB",
        "outputId": "272632f6-b632-4d70-f6a9-1bc997dc6192"
      },
      "execution_count": null,
      "outputs": [
        {
          "output_type": "execute_result",
          "data": {
            "text/plain": [
              "      TV  Radio  Newspaper  Sales\n",
              "0  230.1   37.8       69.2   22.1\n",
              "1   44.5   39.3       45.1   10.4\n",
              "2   17.2   45.9       69.3   12.0\n",
              "3  151.5   41.3       58.5   16.5\n",
              "4  180.8   10.8       58.4   17.9"
            ],
            "text/html": [
              "\n",
              "  <div id=\"df-c0d51b2b-9691-49ae-bd2f-50e347c5e076\" class=\"colab-df-container\">\n",
              "    <div>\n",
              "<style scoped>\n",
              "    .dataframe tbody tr th:only-of-type {\n",
              "        vertical-align: middle;\n",
              "    }\n",
              "\n",
              "    .dataframe tbody tr th {\n",
              "        vertical-align: top;\n",
              "    }\n",
              "\n",
              "    .dataframe thead th {\n",
              "        text-align: right;\n",
              "    }\n",
              "</style>\n",
              "<table border=\"1\" class=\"dataframe\">\n",
              "  <thead>\n",
              "    <tr style=\"text-align: right;\">\n",
              "      <th></th>\n",
              "      <th>TV</th>\n",
              "      <th>Radio</th>\n",
              "      <th>Newspaper</th>\n",
              "      <th>Sales</th>\n",
              "    </tr>\n",
              "  </thead>\n",
              "  <tbody>\n",
              "    <tr>\n",
              "      <th>0</th>\n",
              "      <td>230.1</td>\n",
              "      <td>37.8</td>\n",
              "      <td>69.2</td>\n",
              "      <td>22.1</td>\n",
              "    </tr>\n",
              "    <tr>\n",
              "      <th>1</th>\n",
              "      <td>44.5</td>\n",
              "      <td>39.3</td>\n",
              "      <td>45.1</td>\n",
              "      <td>10.4</td>\n",
              "    </tr>\n",
              "    <tr>\n",
              "      <th>2</th>\n",
              "      <td>17.2</td>\n",
              "      <td>45.9</td>\n",
              "      <td>69.3</td>\n",
              "      <td>12.0</td>\n",
              "    </tr>\n",
              "    <tr>\n",
              "      <th>3</th>\n",
              "      <td>151.5</td>\n",
              "      <td>41.3</td>\n",
              "      <td>58.5</td>\n",
              "      <td>16.5</td>\n",
              "    </tr>\n",
              "    <tr>\n",
              "      <th>4</th>\n",
              "      <td>180.8</td>\n",
              "      <td>10.8</td>\n",
              "      <td>58.4</td>\n",
              "      <td>17.9</td>\n",
              "    </tr>\n",
              "  </tbody>\n",
              "</table>\n",
              "</div>\n",
              "    <div class=\"colab-df-buttons\">\n",
              "\n",
              "  <div class=\"colab-df-container\">\n",
              "    <button class=\"colab-df-convert\" onclick=\"convertToInteractive('df-c0d51b2b-9691-49ae-bd2f-50e347c5e076')\"\n",
              "            title=\"Convert this dataframe to an interactive table.\"\n",
              "            style=\"display:none;\">\n",
              "\n",
              "  <svg xmlns=\"http://www.w3.org/2000/svg\" height=\"24px\" viewBox=\"0 -960 960 960\">\n",
              "    <path d=\"M120-120v-720h720v720H120Zm60-500h600v-160H180v160Zm220 220h160v-160H400v160Zm0 220h160v-160H400v160ZM180-400h160v-160H180v160Zm440 0h160v-160H620v160ZM180-180h160v-160H180v160Zm440 0h160v-160H620v160Z\"/>\n",
              "  </svg>\n",
              "    </button>\n",
              "\n",
              "  <style>\n",
              "    .colab-df-container {\n",
              "      display:flex;\n",
              "      gap: 12px;\n",
              "    }\n",
              "\n",
              "    .colab-df-convert {\n",
              "      background-color: #E8F0FE;\n",
              "      border: none;\n",
              "      border-radius: 50%;\n",
              "      cursor: pointer;\n",
              "      display: none;\n",
              "      fill: #1967D2;\n",
              "      height: 32px;\n",
              "      padding: 0 0 0 0;\n",
              "      width: 32px;\n",
              "    }\n",
              "\n",
              "    .colab-df-convert:hover {\n",
              "      background-color: #E2EBFA;\n",
              "      box-shadow: 0px 1px 2px rgba(60, 64, 67, 0.3), 0px 1px 3px 1px rgba(60, 64, 67, 0.15);\n",
              "      fill: #174EA6;\n",
              "    }\n",
              "\n",
              "    .colab-df-buttons div {\n",
              "      margin-bottom: 4px;\n",
              "    }\n",
              "\n",
              "    [theme=dark] .colab-df-convert {\n",
              "      background-color: #3B4455;\n",
              "      fill: #D2E3FC;\n",
              "    }\n",
              "\n",
              "    [theme=dark] .colab-df-convert:hover {\n",
              "      background-color: #434B5C;\n",
              "      box-shadow: 0px 1px 3px 1px rgba(0, 0, 0, 0.15);\n",
              "      filter: drop-shadow(0px 1px 2px rgba(0, 0, 0, 0.3));\n",
              "      fill: #FFFFFF;\n",
              "    }\n",
              "  </style>\n",
              "\n",
              "    <script>\n",
              "      const buttonEl =\n",
              "        document.querySelector('#df-c0d51b2b-9691-49ae-bd2f-50e347c5e076 button.colab-df-convert');\n",
              "      buttonEl.style.display =\n",
              "        google.colab.kernel.accessAllowed ? 'block' : 'none';\n",
              "\n",
              "      async function convertToInteractive(key) {\n",
              "        const element = document.querySelector('#df-c0d51b2b-9691-49ae-bd2f-50e347c5e076');\n",
              "        const dataTable =\n",
              "          await google.colab.kernel.invokeFunction('convertToInteractive',\n",
              "                                                    [key], {});\n",
              "        if (!dataTable) return;\n",
              "\n",
              "        const docLinkHtml = 'Like what you see? Visit the ' +\n",
              "          '<a target=\"_blank\" href=https://colab.research.google.com/notebooks/data_table.ipynb>data table notebook</a>'\n",
              "          + ' to learn more about interactive tables.';\n",
              "        element.innerHTML = '';\n",
              "        dataTable['output_type'] = 'display_data';\n",
              "        await google.colab.output.renderOutput(dataTable, element);\n",
              "        const docLink = document.createElement('div');\n",
              "        docLink.innerHTML = docLinkHtml;\n",
              "        element.appendChild(docLink);\n",
              "      }\n",
              "    </script>\n",
              "  </div>\n",
              "\n",
              "\n",
              "<div id=\"df-1c457f53-dc02-4252-9607-26ae33f842a7\">\n",
              "  <button class=\"colab-df-quickchart\" onclick=\"quickchart('df-1c457f53-dc02-4252-9607-26ae33f842a7')\"\n",
              "            title=\"Suggest charts\"\n",
              "            style=\"display:none;\">\n",
              "\n",
              "<svg xmlns=\"http://www.w3.org/2000/svg\" height=\"24px\"viewBox=\"0 0 24 24\"\n",
              "     width=\"24px\">\n",
              "    <g>\n",
              "        <path d=\"M19 3H5c-1.1 0-2 .9-2 2v14c0 1.1.9 2 2 2h14c1.1 0 2-.9 2-2V5c0-1.1-.9-2-2-2zM9 17H7v-7h2v7zm4 0h-2V7h2v10zm4 0h-2v-4h2v4z\"/>\n",
              "    </g>\n",
              "</svg>\n",
              "  </button>\n",
              "\n",
              "<style>\n",
              "  .colab-df-quickchart {\n",
              "      --bg-color: #E8F0FE;\n",
              "      --fill-color: #1967D2;\n",
              "      --hover-bg-color: #E2EBFA;\n",
              "      --hover-fill-color: #174EA6;\n",
              "      --disabled-fill-color: #AAA;\n",
              "      --disabled-bg-color: #DDD;\n",
              "  }\n",
              "\n",
              "  [theme=dark] .colab-df-quickchart {\n",
              "      --bg-color: #3B4455;\n",
              "      --fill-color: #D2E3FC;\n",
              "      --hover-bg-color: #434B5C;\n",
              "      --hover-fill-color: #FFFFFF;\n",
              "      --disabled-bg-color: #3B4455;\n",
              "      --disabled-fill-color: #666;\n",
              "  }\n",
              "\n",
              "  .colab-df-quickchart {\n",
              "    background-color: var(--bg-color);\n",
              "    border: none;\n",
              "    border-radius: 50%;\n",
              "    cursor: pointer;\n",
              "    display: none;\n",
              "    fill: var(--fill-color);\n",
              "    height: 32px;\n",
              "    padding: 0;\n",
              "    width: 32px;\n",
              "  }\n",
              "\n",
              "  .colab-df-quickchart:hover {\n",
              "    background-color: var(--hover-bg-color);\n",
              "    box-shadow: 0 1px 2px rgba(60, 64, 67, 0.3), 0 1px 3px 1px rgba(60, 64, 67, 0.15);\n",
              "    fill: var(--button-hover-fill-color);\n",
              "  }\n",
              "\n",
              "  .colab-df-quickchart-complete:disabled,\n",
              "  .colab-df-quickchart-complete:disabled:hover {\n",
              "    background-color: var(--disabled-bg-color);\n",
              "    fill: var(--disabled-fill-color);\n",
              "    box-shadow: none;\n",
              "  }\n",
              "\n",
              "  .colab-df-spinner {\n",
              "    border: 2px solid var(--fill-color);\n",
              "    border-color: transparent;\n",
              "    border-bottom-color: var(--fill-color);\n",
              "    animation:\n",
              "      spin 1s steps(1) infinite;\n",
              "  }\n",
              "\n",
              "  @keyframes spin {\n",
              "    0% {\n",
              "      border-color: transparent;\n",
              "      border-bottom-color: var(--fill-color);\n",
              "      border-left-color: var(--fill-color);\n",
              "    }\n",
              "    20% {\n",
              "      border-color: transparent;\n",
              "      border-left-color: var(--fill-color);\n",
              "      border-top-color: var(--fill-color);\n",
              "    }\n",
              "    30% {\n",
              "      border-color: transparent;\n",
              "      border-left-color: var(--fill-color);\n",
              "      border-top-color: var(--fill-color);\n",
              "      border-right-color: var(--fill-color);\n",
              "    }\n",
              "    40% {\n",
              "      border-color: transparent;\n",
              "      border-right-color: var(--fill-color);\n",
              "      border-top-color: var(--fill-color);\n",
              "    }\n",
              "    60% {\n",
              "      border-color: transparent;\n",
              "      border-right-color: var(--fill-color);\n",
              "    }\n",
              "    80% {\n",
              "      border-color: transparent;\n",
              "      border-right-color: var(--fill-color);\n",
              "      border-bottom-color: var(--fill-color);\n",
              "    }\n",
              "    90% {\n",
              "      border-color: transparent;\n",
              "      border-bottom-color: var(--fill-color);\n",
              "    }\n",
              "  }\n",
              "</style>\n",
              "\n",
              "  <script>\n",
              "    async function quickchart(key) {\n",
              "      const quickchartButtonEl =\n",
              "        document.querySelector('#' + key + ' button');\n",
              "      quickchartButtonEl.disabled = true;  // To prevent multiple clicks.\n",
              "      quickchartButtonEl.classList.add('colab-df-spinner');\n",
              "      try {\n",
              "        const charts = await google.colab.kernel.invokeFunction(\n",
              "            'suggestCharts', [key], {});\n",
              "      } catch (error) {\n",
              "        console.error('Error during call to suggestCharts:', error);\n",
              "      }\n",
              "      quickchartButtonEl.classList.remove('colab-df-spinner');\n",
              "      quickchartButtonEl.classList.add('colab-df-quickchart-complete');\n",
              "    }\n",
              "    (() => {\n",
              "      let quickchartButtonEl =\n",
              "        document.querySelector('#df-1c457f53-dc02-4252-9607-26ae33f842a7 button');\n",
              "      quickchartButtonEl.style.display =\n",
              "        google.colab.kernel.accessAllowed ? 'block' : 'none';\n",
              "    })();\n",
              "  </script>\n",
              "</div>\n",
              "\n",
              "    </div>\n",
              "  </div>\n"
            ],
            "application/vnd.google.colaboratory.intrinsic+json": {
              "type": "dataframe",
              "variable_name": "data",
              "summary": "{\n  \"name\": \"data\",\n  \"rows\": 200,\n  \"fields\": [\n    {\n      \"column\": \"TV\",\n      \"properties\": {\n        \"dtype\": \"number\",\n        \"std\": 85.85423631490808,\n        \"min\": 0.7,\n        \"max\": 296.4,\n        \"num_unique_values\": 190,\n        \"samples\": [\n          287.6,\n          286.0,\n          78.2\n        ],\n        \"semantic_type\": \"\",\n        \"description\": \"\"\n      }\n    },\n    {\n      \"column\": \"Radio\",\n      \"properties\": {\n        \"dtype\": \"number\",\n        \"std\": 14.846809176168724,\n        \"min\": 0.0,\n        \"max\": 49.6,\n        \"num_unique_values\": 167,\n        \"samples\": [\n          8.2,\n          36.9,\n          44.5\n        ],\n        \"semantic_type\": \"\",\n        \"description\": \"\"\n      }\n    },\n    {\n      \"column\": \"Newspaper\",\n      \"properties\": {\n        \"dtype\": \"number\",\n        \"std\": 21.778620838522826,\n        \"min\": 0.3,\n        \"max\": 114.0,\n        \"num_unique_values\": 172,\n        \"samples\": [\n          22.3,\n          5.7,\n          17.0\n        ],\n        \"semantic_type\": \"\",\n        \"description\": \"\"\n      }\n    },\n    {\n      \"column\": \"Sales\",\n      \"properties\": {\n        \"dtype\": \"number\",\n        \"std\": 5.283892252561876,\n        \"min\": 1.6,\n        \"max\": 27.0,\n        \"num_unique_values\": 121,\n        \"samples\": [\n          19.8,\n          22.6,\n          17.9\n        ],\n        \"semantic_type\": \"\",\n        \"description\": \"\"\n      }\n    }\n  ]\n}"
            }
          },
          "metadata": {},
          "execution_count": 3
        }
      ]
    },
    {
      "cell_type": "code",
      "source": [
        "# missing value\n",
        "data.isnull().sum()"
      ],
      "metadata": {
        "colab": {
          "base_uri": "https://localhost:8080/",
          "height": 210
        },
        "id": "8fEYt5l3-YPI",
        "outputId": "056cc0a0-8b53-4d1b-ed6c-d32b5f01e4f3"
      },
      "execution_count": null,
      "outputs": [
        {
          "output_type": "execute_result",
          "data": {
            "text/plain": [
              "TV           0\n",
              "Radio        0\n",
              "Newspaper    0\n",
              "Sales        0\n",
              "dtype: int64"
            ],
            "text/html": [
              "<div>\n",
              "<style scoped>\n",
              "    .dataframe tbody tr th:only-of-type {\n",
              "        vertical-align: middle;\n",
              "    }\n",
              "\n",
              "    .dataframe tbody tr th {\n",
              "        vertical-align: top;\n",
              "    }\n",
              "\n",
              "    .dataframe thead th {\n",
              "        text-align: right;\n",
              "    }\n",
              "</style>\n",
              "<table border=\"1\" class=\"dataframe\">\n",
              "  <thead>\n",
              "    <tr style=\"text-align: right;\">\n",
              "      <th></th>\n",
              "      <th>0</th>\n",
              "    </tr>\n",
              "  </thead>\n",
              "  <tbody>\n",
              "    <tr>\n",
              "      <th>TV</th>\n",
              "      <td>0</td>\n",
              "    </tr>\n",
              "    <tr>\n",
              "      <th>Radio</th>\n",
              "      <td>0</td>\n",
              "    </tr>\n",
              "    <tr>\n",
              "      <th>Newspaper</th>\n",
              "      <td>0</td>\n",
              "    </tr>\n",
              "    <tr>\n",
              "      <th>Sales</th>\n",
              "      <td>0</td>\n",
              "    </tr>\n",
              "  </tbody>\n",
              "</table>\n",
              "</div><br><label><b>dtype:</b> int64</label>"
            ]
          },
          "metadata": {},
          "execution_count": 6
        }
      ]
    },
    {
      "cell_type": "code",
      "source": [
        "# data type\n",
        "for cols in data.columns:\n",
        "    print(cols, ':', data[cols].dtype)"
      ],
      "metadata": {
        "colab": {
          "base_uri": "https://localhost:8080/"
        },
        "id": "ux31f-td-nH6",
        "outputId": "86fe64ba-b354-4420-d524-69f71b2c7311"
      },
      "execution_count": null,
      "outputs": [
        {
          "output_type": "stream",
          "name": "stdout",
          "text": [
            "TV : float64\n",
            "Radio : float64\n",
            "Newspaper : float64\n",
            "Sales : float64\n"
          ]
        }
      ]
    },
    {
      "cell_type": "code",
      "source": [
        "# Xn vs Y (independent vs target correlation using scatter plot)\n",
        "sns.pairplot(data, x_vars = ['TV', 'Radio', 'Newspaper'],\n",
        "             y_vars = ['Sales'], kind='scatter', size=4, aspect=0.8)\n",
        "plt.show()"
      ],
      "metadata": {
        "colab": {
          "base_uri": "https://localhost:8080/",
          "height": 415
        },
        "id": "W0Axgsxe-bi2",
        "outputId": "db06c179-644a-45b6-9791-4a76b18b8167"
      },
      "execution_count": null,
      "outputs": [
        {
          "output_type": "display_data",
          "data": {
            "text/plain": [
              "<Figure size 960x400 with 3 Axes>"
            ],
            "image/png": "[encoded data removed]"
          },
          "metadata": {}
        }
      ]
    },
    {
      "cell_type": "markdown",
      "source": [
        "This code block generates scatter plots to visualize the relationships between the independent variables (`TV`, `Radio`, and `Newspaper`) and the target variable (`Sales`). The goal is to **analyze how each independent variable is correlated with the target variable**.\n",
        "\n",
        "---\n",
        "\n",
        "```python\n",
        "sns.pairplot(data, x_vars=['TV', 'Radio', 'Newspaper'],\n",
        "             y_vars=['Sales'], kind='scatter', size=4, aspect=0.8)\n",
        "plt.show()\n",
        "```\n",
        "\n",
        "### **1. `sns.pairplot()`**\n",
        "- **`pairplot()`** is a function from the `seaborn` library that creates pairwise scatter plots to examine relationships between variables.\n",
        "- **Why use it?**\n",
        "  - It helps visualize **correlations** between independent (`TV`, `Radio`, `Newspaper`) and dependent (`Sales`) variables.\n",
        "  - Scatter plots show **patterns, trends, and potential linear relationships**.\n",
        "  - Allows quick identification of variables that might influence the target.\n",
        "\n",
        "---\n",
        "\n",
        "### **2. Parameters Explained**\n",
        "- **`data`**: The dataset containing the variables (assumed to be a `pandas DataFrame`).\n",
        "- **`x_vars=['TV', 'Radio', 'Newspaper']`**:\n",
        "  - Specifies the **independent variables** to be plotted on the x-axis.\n",
        "- **`y_vars=['Sales']`**:\n",
        "  - Specifies the **dependent variable** (target variable) to be plotted on the y-axis.\n",
        "- **`kind='scatter'`**:\n",
        "  - Ensures that the plots generated are **scatter plots**, where individual data points are plotted.\n",
        "- **`size=4`**:\n",
        "  - Controls the **height** of each subplot (4 inches).\n",
        "- **`aspect=0.8`**:\n",
        "  - Controls the **width-to-height ratio** of each subplot.\n",
        "\n",
        "---\n",
        "\n",
        "### **3. `plt.show()`**\n",
        "- Ensures the scatter plot is displayed in the output.\n",
        "\n",
        "---\n",
        "\n",
        "### **Understanding the Generated Plot**\n",
        "- **Left Plot (TV vs Sales)**:\n",
        "  - Shows a **strong positive correlation** (as TV advertising increases, sales tend to increase).\n",
        "  - Indicates that **TV might be a good predictor of sales**.\n",
        "- **Middle Plot (Radio vs Sales)**:\n",
        "  - Displays a **moderate correlation** (some relationship but with more scatter).\n",
        "- **Right Plot (Newspaper vs Sales)**:\n",
        "  - Appears to have **little or no correlation** (random scatter with no clear trend).\n",
        "  - Suggests that **newspaper spending may not be a strong predictor of sales**.\n",
        "\n",
        "---\n",
        "\n",
        "### **Key Takeaways**\n",
        "- Scatter plots **visually confirm relationships** before performing Linear Regression.\n",
        "- **TV has the strongest correlation** with Sales, indicating it might be the best predictor.\n",
        "- **Newspaper advertising seems to have little impact on Sales**.\n"
      ],
      "metadata": {
        "id": "0iGnTlJZ_BO8"
      }
    },
    {
      "cell_type": "code",
      "source": [
        "# heat map to get corr coeff values\n",
        "sns.heatmap(data.corr(), annot=True, mask=np.triu(data.corr()))\n",
        "plt.show()"
      ],
      "metadata": {
        "colab": {
          "base_uri": "https://localhost:8080/",
          "height": 435
        },
        "id": "pZtlWL4pAJPx",
        "outputId": "e65f6605-1f0f-4bbc-8bda-72bf9f326bcf"
      },
      "execution_count": null,
      "outputs": [
        {
          "output_type": "display_data",
          "data": {
            "text/plain": [
              "<Figure size 640x480 with 2 Axes>"
            ],
            "image/png": "[encoded data removed]"
          },
          "metadata": {}
        }
      ]
    },
    {
      "cell_type": "markdown",
      "source": [
        "This code block generates a **heatmap** to visualize the **correlation coefficients** between variables in the dataset. Correlation values indicate how strongly two variables are related.\n",
        "\n",
        "---\n",
        "\n",
        "```python\n",
        "sns.heatmap(data.corr(), annot=True, mask=np.triu(data.corr()))\n",
        "plt.show()\n",
        "```\n",
        "\n",
        "---\n",
        "\n",
        "### **1. `data.corr()`**\n",
        "- **Computes the correlation matrix** for the dataset.\n",
        "- **What does correlation measure?**\n",
        "  - **Range:** `-1` to `1`:\n",
        "    - **+1:** Perfect positive correlation (as one increases, the other increases).\n",
        "    - **-1:** Perfect negative correlation (as one increases, the other decreases).\n",
        "    - **0:** No correlation.\n",
        "- **Why use it?**\n",
        "  - Helps identify **relationships between variables** before applying Linear Regression.\n",
        "  - Determines **which independent variables (TV, Radio, Newspaper) are most correlated with Sales**.\n",
        "\n",
        "---\n",
        "\n",
        "### **2. `sns.heatmap()`**\n",
        "- A function from `seaborn` used to create **heatmaps** for visualizing relationships between variables.\n",
        "\n",
        "#### **Parameters Explained:**\n",
        "- **`data.corr()`**:\n",
        "  - The correlation matrix used as input.\n",
        "- **`annot=True`**:\n",
        "  - Displays **correlation coefficient values** inside the heatmap cells.\n",
        "- **`mask=np.triu(data.corr())`**:\n",
        "  - **Why use `np.triu()`?**\n",
        "    - `np.triu()` extracts the **upper triangle** of the matrix.\n",
        "    - This **hides redundant values** (since correlation matrices are symmetric).\n",
        "    - Improves readability by **showing only unique correlations**.\n",
        "\n",
        "---\n",
        "\n",
        "### **3. `plt.show()`**\n",
        "- Ensures the heatmap is displayed in the output.\n",
        "\n",
        "---\n",
        "\n",
        "### **Understanding the Heatmap**\n",
        "- **Diagonal values are always `1.0`** (each variable is perfectly correlated with itself).\n",
        "- **Key correlations:**\n",
        "  - **TV vs Sales (`0.9`)**:\n",
        "    - **Strong positive correlation** → TV advertising has a **significant** impact on Sales.\n",
        "  - **Radio vs Sales (`0.35`)**:\n",
        "    - **Moderate correlation** → Radio advertising influences Sales but not as strongly as TV.\n",
        "  - **Newspaper vs Sales (`0.16`)**:\n",
        "    - **Weak correlation** → Newspaper ads have **little impact** on Sales.\n",
        "\n",
        "---\n",
        "\n",
        "### **Key Takeaways**\n",
        "- The **strongest predictor of Sales is TV advertising** (`0.9` correlation).\n",
        "- **Radio has some influence**, but Newspaper advertising does not significantly impact Sales.\n",
        "- This heatmap helps in **feature selection** by identifying **which independent variables are most relevant** for Linear Regression.\n"
      ],
      "metadata": {
        "id": "Dzjj6qp-_OIc"
      }
    },
    {
      "cell_type": "code",
      "source": [
        "# multiple linear regression\n",
        "\n",
        "    # y_pred = m1x(TV) + m2x(Radio) + m3x(Newspaper) + c\n",
        "\n",
        "# In our case - simple linear regression\n",
        "\n",
        "    # y_pred = m1x(TV) + c\n",
        "\n",
        "    # c - y intercept\n",
        "    # m1 - slope (model coefficient / parameter)"
      ],
      "metadata": {
        "id": "ycsF0E-OA1x_"
      },
      "execution_count": null,
      "outputs": []
    },
    {
      "cell_type": "markdown",
      "source": [
        "## **4. Building The Model**"
      ],
      "metadata": {
        "id": "kUzjK_nvEWo2"
      }
    },
    {
      "cell_type": "code",
      "source": [
        "# Data Split\n",
        "x = data['TV']\n",
        "y = data['Sales']\n",
        "\n",
        "# train test split\n",
        "x_train, x_test, y_train, y_test = train_test_split(x , y, test_size=0.2, random_state=42)"
      ],
      "metadata": {
        "id": "9mFeo2y4BfnX"
      },
      "execution_count": null,
      "outputs": []
    },
    {
      "cell_type": "code",
      "source": [
        "# Model building with OLS\n",
        "\n",
        "# adding the constant (y intercept) manually as sm wont have it\n",
        "x_train_sm = sm.add_constant(x_train)\n",
        "\n",
        "# fitting the model\n",
        "lr = sm.OLS(y_train, x_train_sm).fit()"
      ],
      "metadata": {
        "id": "wjMF2SivCYyv"
      },
      "execution_count": null,
      "outputs": []
    },
    {
      "cell_type": "markdown",
      "source": [
        "This code block performs **Ordinary Least Squares (OLS) regression** using `statsmodels`. It manually adds an intercept (constant) to the independent variables and fits the model to the training data.\n",
        "\n",
        "---\n",
        "\n",
        "```python\n",
        "# adding the constant (y intercept) manually as sm wont have it\n",
        "x_train_sm = sm.add_constant(x_train)\n",
        "```\n",
        "- **`sm.add_constant(x_train)`**:\n",
        "  - Adds a **constant (intercept)** term to the independent variables (`x_train`).\n",
        "  - **Why?**\n",
        "    - `statsmodels.OLS()` does **not** automatically include an intercept like `sklearn` does.\n",
        "    - The intercept is crucial because it allows the regression equation to account for a **baseline value** when all independent variables are `0`.\n",
        "\n",
        "---\n",
        "\n",
        "```python\n",
        "# fitting the model\n",
        "lr = sm.OLS(y_train, x_train_sm).fit()\n",
        "```\n",
        "- **`sm.OLS(y_train, x_train_sm)`**:\n",
        "  - **Creates an OLS regression model** using:\n",
        "    - **`y_train` (dependent variable, Sales)**.\n",
        "    - **`x_train_sm` (independent variables, TV/Radio/Newspaper + added constant)**.\n",
        "- **`.fit()`**:\n",
        "  - **Fits the model to the training data** by computing regression coefficients that minimize the sum of squared residuals.\n",
        "\n",
        "---\n",
        "\n",
        "### **Understanding Ordinary Least Squares (OLS)**\n",
        "- **OLS is a method to estimate regression coefficients by minimizing the sum of squared differences** between actual and predicted values.\n",
        "- The **OLS equation**:\n",
        "  \n",
        "  \\[\n",
        "  Y = \\beta_0 + \\beta_1 X_1 + \\beta_2 X_2 + \\beta_3 X_3 + \\epsilon\n",
        "  \\]\n",
        "  - **`Y` (Sales)** = Dependent variable\n",
        "  - **`X_1, X_2, X_3` (TV, Radio, Newspaper)** = Independent variables\n",
        "  - **`β_0`** = Intercept (constant term, manually added)\n",
        "  - **`β_1, β_2, β_3`** = Regression coefficients (weights for each variable)\n",
        "  - **`ε`** = Error term (unexplained variation)\n",
        "\n",
        "---\n",
        "\n",
        "### **Key Takeaways**\n",
        "- **`sm.add_constant(x_train)`** is necessary because `statsmodels.OLS()` does not include an intercept automatically.\n",
        "- The `.fit()` method **trains the model**, determining the optimal coefficients for predicting `Sales`.\n",
        "- OLS **minimizes residuals**, ensuring the best fit for the given data.\n"
      ],
      "metadata": {
        "id": "j5MZt6Ju_ZON"
      }
    },
    {
      "cell_type": "code",
      "source": [
        "# model parameters\n",
        "lr.params"
      ],
      "metadata": {
        "colab": {
          "base_uri": "https://localhost:8080/",
          "height": 147
        },
        "id": "bnck7ltgDO0I",
        "outputId": "888a6d46-1ca6-4bb8-fe97-5f9222db5636"
      },
      "execution_count": null,
      "outputs": [
        {
          "output_type": "execute_result",
          "data": {
            "text/plain": [
              "const    7.007108\n",
              "TV       0.055483\n",
              "dtype: float64"
            ],
            "text/html": [
              "<div>\n",
              "<style scoped>\n",
              "    .dataframe tbody tr th:only-of-type {\n",
              "        vertical-align: middle;\n",
              "    }\n",
              "\n",
              "    .dataframe tbody tr th {\n",
              "        vertical-align: top;\n",
              "    }\n",
              "\n",
              "    .dataframe thead th {\n",
              "        text-align: right;\n",
              "    }\n",
              "</style>\n",
              "<table border=\"1\" class=\"dataframe\">\n",
              "  <thead>\n",
              "    <tr style=\"text-align: right;\">\n",
              "      <th></th>\n",
              "      <th>0</th>\n",
              "    </tr>\n",
              "  </thead>\n",
              "  <tbody>\n",
              "    <tr>\n",
              "      <th>const</th>\n",
              "      <td>7.007108</td>\n",
              "    </tr>\n",
              "    <tr>\n",
              "      <th>TV</th>\n",
              "      <td>0.055483</td>\n",
              "    </tr>\n",
              "  </tbody>\n",
              "</table>\n",
              "</div><br><label><b>dtype:</b> float64</label>"
            ]
          },
          "metadata": {},
          "execution_count": 19
        }
      ]
    },
    {
      "cell_type": "markdown",
      "source": [
        "This code retrieves and displays the **estimated coefficients (parameters)** of the **OLS regression model**.\n",
        "\n",
        "---\n",
        "\n",
        "```python\n",
        "lr.params\n",
        "```\n",
        "- **`lr.params`**:\n",
        "  - Returns the **coefficients (parameters) of the trained OLS model**.\n",
        "  - These coefficients represent the **impact of each independent variable on the dependent variable** (`Sales`).\n",
        "  \n",
        "---\n",
        "\n",
        "### **Understanding the Output**\n",
        "| Parameter  | Value     | Meaning |\n",
        "|------------|----------|---------|\n",
        "| **const**  | `7.0071`  | Intercept (`β₀`), the baseline Sales when TV spending is `0`. |\n",
        "| **TV**     | `0.0555`  | Coefficient (`β₁`), meaning that **for each additional unit spent on TV ads, Sales increase by ~0.0555 units**. |\n",
        "\n",
        "### **Interpreting the Regression Equation**\n",
        "The estimated **Linear Regression equation** based on the parameters:\n",
        "\n",
        "\\[\n",
        "\\hat{Y} = 7.007 + 0.0555 \\times TV\n",
        "\\]\n",
        "\n",
        "- **`7.007`**: Even with **no TV ads**, the model predicts **7.007 Sales** (base level).\n",
        "- **`0.0555`**: For **every extra dollar spent on TV ads**, **Sales increase by ~0.0555 units**.\n",
        "\n",
        "---\n",
        "\n",
        "### **Key Takeaways**\n",
        "- **`const` (Intercept)**: Represents the **baseline** Sales when all independent variables are `0`.\n",
        "- **`TV` coefficient**: Shows that **TV advertising has a positive impact on Sales**.\n",
        "- **No coefficients for `Radio` or `Newspaper`**:\n",
        "  - The model was likely trained using **only TV** as the independent variable.\n",
        "  - If multiple variables were included, `lr.params` would show coefficients for each.\n",
        "\n",
        "---\n"
      ],
      "metadata": {
        "id": "knSBGj46AFCc"
      }
    },
    {
      "cell_type": "code",
      "source": [
        "# best fit equation\n",
        "\n",
        "    # y_pred = m1x(TV) + c\n",
        "    # y_pred = 0.055483x(TV) + 7.007108"
      ],
      "metadata": {
        "id": "mnljUcyPDU7s"
      },
      "execution_count": null,
      "outputs": []
    },
    {
      "cell_type": "markdown",
      "source": [
        "## **5. Analyzing Model Performance**"
      ],
      "metadata": {
        "id": "fNCtux-WF5LR"
      }
    },
    {
      "cell_type": "code",
      "source": [
        "# Model Summary\n",
        "print(lr.summary())"
      ],
      "metadata": {
        "colab": {
          "base_uri": "https://localhost:8080/"
        },
        "id": "eHN2jnzFDpo9",
        "outputId": "c6b346d9-19ab-42a5-f43b-8717eb92a6d2"
      },
      "execution_count": null,
      "outputs": [
        {
          "output_type": "stream",
          "name": "stdout",
          "text": [
            "                            OLS Regression Results                            \n",
            "==============================================================================\n",
            "Dep. Variable:                  Sales   R-squared:                       0.813\n",
            "Model:                            OLS   Adj. R-squared:                  0.812\n",
            "Method:                 Least Squares   F-statistic:                     689.1\n",
            "Date:                Sat, 10 Aug 2024   Prob (F-statistic):           1.71e-59\n",
            "Time:                        06:51:56   Log-Likelihood:                -355.76\n",
            "No. Observations:                 160   AIC:                             715.5\n",
            "Df Residuals:                     158   BIC:                             721.7\n",
            "Df Model:                           1                                         \n",
            "Covariance Type:            nonrobust                                         \n",
            "==============================================================================\n",
            "                 coef    std err          t      P>|t|      [0.025      0.975]\n",
            "------------------------------------------------------------------------------\n",
            "const          7.0071      0.364     19.274      0.000       6.289       7.725\n",
            "TV             0.0555      0.002     26.251      0.000       0.051       0.060\n",
            "==============================================================================\n",
            "Omnibus:                        0.631   Durbin-Watson:                   2.262\n",
            "Prob(Omnibus):                  0.730   Jarque-Bera (JB):                0.767\n",
            "Skew:                          -0.110   Prob(JB):                        0.681\n",
            "Kurtosis:                       2.742   Cond. No.                         352.\n",
            "==============================================================================\n",
            "\n",
            "Notes:\n",
            "[1] Standard Errors assume that the covariance matrix of the errors is correctly specified.\n"
          ]
        }
      ]
    },
    {
      "cell_type": "markdown",
      "source": [
        "This code prints the **OLS regression summary**, providing a detailed statistical report on the model's performance.\n",
        "\n",
        "---\n",
        "\n",
        "```python\n",
        "print(lr.summary())\n",
        "```\n",
        "- **`lr.summary()`**:\n",
        "  - Generates a **detailed summary of the OLS regression results**.\n",
        "  - Displays key statistics, including **coefficients, significance levels, model fit, and error measures**.\n",
        "\n",
        "---\n",
        "\n",
        "### **Understanding the Model Summary Output**\n",
        "\n",
        "### **1. Model Information**\n",
        "| Metric | Value | Explanation |\n",
        "|---------|--------|------------|\n",
        "| **Dep. Variable** | `Sales` | The target variable being predicted. |\n",
        "| **Model** | `OLS` | Ordinary Least Squares regression. |\n",
        "| **Method** | `Least Squares` | The technique used to fit the model. |\n",
        "| **No. Observations** | `160` | Number of data points used. |\n",
        "| **Df Residuals** | `158` | Degrees of freedom for residuals (`n - k - 1`). |\n",
        "| **Df Model** | `1` | Number of independent variables (`TV`). |\n",
        "\n",
        "---\n",
        "\n",
        "### **2. Goodness of Fit (How Well the Model Explains the Data)**\n",
        "| Metric | Value | Interpretation |\n",
        "|---------|--------|----------------|\n",
        "| **R-squared** | `0.813` | **81.3% of Sales variation is explained** by TV ads. Higher is better. |\n",
        "| **Adj. R-squared** | `0.812` | Adjusted for number of predictors. Similar to R² when using one variable. |\n",
        "| **F-statistic** | `689.1` | A large F-stat indicates strong predictive power. |\n",
        "| **Prob (F-statistic)** | `1.7e-59` | **p-value < 0.05 → Model is statistically significant**. |\n",
        "\n",
        "---\n",
        "\n",
        "### **3. Regression Coefficients (Impact of Variables)**\n",
        "| Variable | Coef | Std Err | t | P>|t| | Confidence Interval |\n",
        "|----------|------|--------|------|------|----------------------|\n",
        "| **const** | `7.007` | `0.364` | `19.274` | `0.000` | `[6.280, 7.725]` |\n",
        "| **TV** | `0.0555` | `0.002` | `26.253` | `0.000` | `[0.051, 0.060]` |\n",
        "\n",
        "#### **Interpretation:**\n",
        "- **Intercept (`const` = 7.007)**:\n",
        "  - If **TV spending is `0`**, **Sales are expected to be `7.007` units**.\n",
        "- **TV Coefficient (`0.0555`)**:\n",
        "  - For **every $1 increase in TV ads**, **Sales increase by `0.0555` units**.\n",
        "- **P>|t| (`0.000`)**:\n",
        "  - A **p-value < 0.05** confirms that **TV ads significantly impact Sales**.\n",
        "\n",
        "---\n",
        "\n",
        "### **4. Residual Diagnostics**\n",
        "| Metric | Value | Explanation |\n",
        "|---------|--------|------------|\n",
        "| **Omnibus** | `0.631` | Tests normality of residuals. Higher means less normal. |\n",
        "| **Prob(Omnibus)** | `0.730` | p-value > 0.05 → Residuals are **normally distributed**. |\n",
        "| **Skew** | `-0.110` | Closer to `0` means symmetrical residuals. |\n",
        "| **Kurtosis** | `2.742` | Near `3` means normal distribution of residuals. |\n",
        "| **Durbin-Watson** | `2.262` | **Close to `2.0` (no autocorrelation in residuals).** |\n",
        "\n",
        "---\n",
        "\n",
        "### **Key Takeaways**\n",
        "1. **TV advertising explains 81.3% of Sales variations (High R²).**\n",
        "2. **TV ads significantly impact Sales (`p < 0.05`).**\n",
        "3. **Residuals are normally distributed (`Prob(Omnibus) > 0.05`).**\n",
        "4. **Model is statistically significant (`Prob(F-stat) < 0.05`).**\n"
      ],
      "metadata": {
        "id": "ksLb80CeAR1q"
      }
    },
    {
      "cell_type": "markdown",
      "source": [
        "## **6. Visualizing the Model Fit**"
      ],
      "metadata": {
        "id": "B0rXyBXZFrar"
      }
    },
    {
      "cell_type": "code",
      "source": [
        "# Plotting our best fit line in the data\n",
        "plt.scatter(x_train, y_train)\n",
        "plt.plot(x_train, 0.055483*(x_train) + 7.007108,'r')\n",
        "plt.show()"
      ],
      "metadata": {
        "colab": {
          "base_uri": "https://localhost:8080/",
          "height": 430
        },
        "id": "j1Xl-0hfEqVG",
        "outputId": "11e5c62f-f0b5-4b81-d1c4-68547744c0c2"
      },
      "execution_count": null,
      "outputs": [
        {
          "output_type": "display_data",
          "data": {
            "text/plain": [
              "<Figure size 640x480 with 1 Axes>"
            ],
            "image/png": "[encoded data removed]"
          },
          "metadata": {}
        }
      ]
    },
    {
      "cell_type": "markdown",
      "source": [
        "This code plots a **scatter plot of the training data** and overlays the **best-fit regression line** for visualization.\n",
        "\n",
        "---\n",
        "\n",
        "```python\n",
        "plt.scatter(x_train, y_train)\n",
        "```\n",
        "- **`plt.scatter(x_train, y_train)`**:\n",
        "  - Plots the **actual data points** (blue dots).\n",
        "  - **X-axis:** `x_train` (TV ad spend).\n",
        "  - **Y-axis:** `y_train` (Sales).\n",
        "  - This shows how **Sales vary with TV advertising spend**.\n",
        "\n",
        "---\n",
        "\n",
        "```python\n",
        "plt.plot(x_train, 0.055483*(x_train) + 7.007108, 'r')\n",
        "```\n",
        "- **`plt.plot()`**:\n",
        "  - Draws the **best-fit regression line** in **red ('r')**.\n",
        "  - **Equation used:**\n",
        "\n",
        "    \\[\n",
        "    \\hat{Y} = 7.0071 + 0.05548 \\times TV\n",
        "    \\]\n",
        "\n",
        "  - **7.0071** → Intercept (constant).\n",
        "  - **0.05548** → Coefficient for `TV` (slope).\n",
        "  - This line represents **predicted Sales values based on TV ad spend**.\n",
        "\n",
        "---\n",
        "\n",
        "```python\n",
        "plt.show()\n",
        "```\n",
        "- Displays the scatter plot with the regression line.\n",
        "\n",
        "---\n",
        "\n",
        "### **Understanding the Plot**\n",
        "- **Blue Dots (Scatter Plot)**:\n",
        "  - Represent **actual training data points**.\n",
        "  - Show the **relationship between TV ad spend and Sales**.\n",
        "- **Red Line (Best-Fit Line)**:\n",
        "  - Represents **the Linear Regression model’s predictions**.\n",
        "  - Captures the **trend between TV spending and Sales**.\n",
        "  - The **slope (`0.05548`)** indicates that **increasing TV spend increases Sales**.\n",
        "\n",
        "---\n",
        "\n",
        "### **Key Takeaways**\n",
        "1. **The regression line follows the general trend of the data**, confirming a strong relationship.\n",
        "2. **Higher TV ad spend generally leads to higher Sales** (positive correlation).\n",
        "3. **Scatter points close to the line indicate a good model fit**.\n"
      ],
      "metadata": {
        "id": "tAdj_nIOAbxx"
      }
    },
    {
      "cell_type": "markdown",
      "source": [
        "## **7. Residual Analysis**"
      ],
      "metadata": {
        "id": "Qhk8ZBkYGTQW"
      }
    },
    {
      "cell_type": "code",
      "source": [
        "# Residuals\n",
        "y_train_pred = lr.predict(x_train_sm)\n",
        "res = (y_train - y_train_pred)"
      ],
      "metadata": {
        "id": "sbo--t83Ev9l"
      },
      "execution_count": null,
      "outputs": []
    },
    {
      "cell_type": "markdown",
      "source": [
        "This code calculates **residuals**, which are the differences between **actual Sales values** and **predicted values** from the regression model.\n",
        "\n",
        "---\n",
        "\n",
        "```python\n",
        "y_train_pred = lr.predict(x_train_sm)\n",
        "```\n",
        "- **`lr.predict(x_train_sm)`**:\n",
        "  - Uses the **fitted OLS regression model (`lr`)** to **predict Sales values** (`y_train_pred`) based on `x_train_sm` (TV ad spend with intercept).\n",
        "  - This generates **predicted Sales values** for the training data.\n",
        "\n",
        "---\n",
        "\n",
        "```python\n",
        "res = (y_train - y_train_pred)\n",
        "```\n",
        "- **Residual Calculation (`res`)**:\n",
        "  - **Residual = Actual Sales - Predicted Sales**\n",
        "  - Measures **how far the actual values deviate from the model's predictions**.\n",
        "\n",
        "---\n",
        "\n",
        "### **Understanding Residuals**\n",
        "- **If residuals are small** → The model makes **accurate predictions**.\n",
        "- **If residuals are large** → The model **struggles to predict some data points**.\n",
        "- **A good regression model should have residuals randomly scattered around zero**.\n",
        "\n",
        "---\n",
        "\n",
        "### **Key Takeaways**\n",
        "1. **Residuals help evaluate model accuracy** (lower residuals mean better fit).\n",
        "2. **Positive Residuals** → The model **underpredicted** Sales.\n",
        "3. **Negative Residuals** → The model **overpredicted** Sales.\n",
        "4. **Residual analysis is crucial** for checking model assumptions and potential improvements.\n"
      ],
      "metadata": {
        "id": "bDeZ8uz-A8SG"
      }
    },
    {
      "cell_type": "code",
      "source": [
        "# residual should be normally distributed for a good model\n",
        "sns.displot(res, kind='kde')\n",
        "plt.show()"
      ],
      "metadata": {
        "colab": {
          "base_uri": "https://localhost:8080/",
          "height": 506
        },
        "id": "AjrSQ4wSGDl0",
        "outputId": "f5e62e57-8905-4899-d622-91527e59979f"
      },
      "execution_count": null,
      "outputs": [
        {
          "output_type": "display_data",
          "data": {
            "text/plain": [
              "<Figure size 500x500 with 1 Axes>"
            ],
            "image/png": "[encoded data removed]"
          },
          "metadata": {}
        }
      ]
    },
    {
      "cell_type": "markdown",
      "source": [
        "This code visualizes the **distribution of residuals** using a **Kernel Density Estimation (KDE) plot** to check if they follow a **normal distribution**, which is a key assumption in Linear Regression.\n",
        "\n",
        "---\n",
        "\n",
        "```python\n",
        "sns.displot(res, kind='kde')\n",
        "```\n",
        "- **`sns.displot()`**:\n",
        "  - Creates a **distribution plot** to show how residuals (`res`) are spread.\n",
        "- **`kind='kde'`**:\n",
        "  - Specifies a **Kernel Density Estimation (KDE) plot**, which smooths the distribution curve.\n",
        "  - KDE plots provide a **continuous probability density function** of the data.\n",
        "\n",
        "---\n",
        "\n",
        "```python\n",
        "plt.show()\n",
        "```\n",
        "- Ensures the plot is displayed.\n",
        "\n",
        "---\n",
        "\n",
        "### **Understanding the Residual Plot**\n",
        "- **Residuals should be normally distributed (bell-shaped curve) for a good regression model**.\n",
        "- **If residuals are skewed or have multiple peaks**, it may indicate:\n",
        "  - **Non-linearity in the data**.\n",
        "  - **Omitted variables affecting predictions**.\n",
        "  - **Heteroscedasticity (unequal variance in residuals)**.\n",
        "\n",
        "---\n",
        "\n",
        "### **Key Takeaways**\n",
        "1. **Residuals should follow a normal distribution** for valid OLS regression assumptions.\n",
        "2. **A symmetrical KDE curve centered around zero** suggests a well-fitted model.\n",
        "3. **Deviations from normality** may indicate **missing predictors, outliers, or model issues**.\n"
      ],
      "metadata": {
        "id": "jIOpMfSBBEYX"
      }
    },
    {
      "cell_type": "code",
      "source": [
        "# there should not be any pattern in residual\n",
        "plt.scatter(x_train, res)\n",
        "plt.show()"
      ],
      "metadata": {
        "colab": {
          "base_uri": "https://localhost:8080/",
          "height": 430
        },
        "id": "baHcrjBKGh8a",
        "outputId": "f486a1a2-aeed-44b9-ad22-4884a872d6d9"
      },
      "execution_count": null,
      "outputs": [
        {
          "output_type": "display_data",
          "data": {
            "text/plain": [
              "<Figure size 640x480 with 1 Axes>"
            ],
            "image/png": "[encoded data removed]"
          },
          "metadata": {}
        }
      ]
    },
    {
      "cell_type": "markdown",
      "source": [
        "This code generates a **Residual Plot**, which is used to check if the residuals exhibit any pattern. A good linear regression model should have **randomly scattered residuals** with **no visible trend**.\n",
        "\n",
        "---\n",
        "\n",
        "```python\n",
        "plt.scatter(x_train, res)\n",
        "```\n",
        "- **`plt.scatter(x_train, res)`**:\n",
        "  - Plots **TV ad spend (`x_train`)** on the X-axis and **residuals (`res`)** on the Y-axis.\n",
        "  - Residuals represent the **difference between actual and predicted values**.\n",
        "  - A properly fitted linear model should have residuals **randomly distributed around zero**.\n",
        "\n",
        "---\n",
        "\n",
        "```python\n",
        "plt.show()\n",
        "```\n",
        "- Displays the scatter plot.\n",
        "\n",
        "---\n",
        "\n",
        "### **Interpreting the Residual Plot**\n",
        "1. **Good Model (Random Scatter)**:\n",
        "   - Residuals **should be randomly distributed around zero**.\n",
        "   - No distinct patterns should be visible.\n",
        "   - Indicates that the linear regression model is valid.\n",
        "\n",
        "2. **Bad Model (Pattern in Residuals)**:\n",
        "   - If residuals form a **curve or pattern**, the relationship may be **non-linear**.\n",
        "   - Could suggest **heteroscedasticity** (variance changes with X).\n",
        "   - Indicates the model might be **missing key predictors**.\n",
        "\n",
        "---\n",
        "\n",
        "### **Key Takeaways**\n",
        "- **A random scatter of points suggests the model is appropriate**.\n",
        "- **If a pattern is observed**, a non-linear model or feature engineering may be needed.\n",
        "- **Ensuring homoscedasticity** (constant variance of residuals) is critical for OLS assumptions.\n"
      ],
      "metadata": {
        "id": "DWnzW2KHBMvj"
      }
    },
    {
      "cell_type": "markdown",
      "source": [
        "## **8. Comparing Actual vs. Predicted Values**"
      ],
      "metadata": {
        "id": "FHhnrr8tGzzT"
      }
    },
    {
      "cell_type": "code",
      "source": [
        "# Scatter plot for actual and predicted\n",
        "plt.scatter(x_train, y_train)           # actual\n",
        "plt.scatter(x_train, y_train_pred)      # predicted\n",
        "plt.show()1"
      ],
      "metadata": {
        "colab": {
          "base_uri": "https://localhost:8080/",
          "height": 430
        },
        "id": "HsvsRZ5tHvxN",
        "outputId": "fb6cb5a0-e925-4eb9-a773-8ff57768c6fd"
      },
      "execution_count": null,
      "outputs": [
        {
          "output_type": "display_data",
          "data": {
            "text/plain": [
              "<Figure size 640x480 with 1 Axes>"
            ],
            "image/png": "[encoded data removed]"
          },
          "metadata": {}
        }
      ]
    },
    {
      "cell_type": "markdown",
      "source": [
        "### **Detailed Explanation of the Code Block**\n",
        "\n",
        "This code generates a **scatter plot comparing actual vs. predicted values** to visually evaluate the model’s performance.\n",
        "\n",
        "---\n",
        "\n",
        "## **Code Breakdown**\n",
        "\n",
        "```python\n",
        "plt.scatter(x_train, y_train)  # actual\n",
        "```\n",
        "- **`plt.scatter(x_train, y_train)`**:\n",
        "  - Plots the **actual Sales values** (blue dots).\n",
        "  - **X-axis:** `x_train` (TV ad spend).\n",
        "  - **Y-axis:** `y_train` (Actual Sales).\n",
        "  - Represents **real observations from the dataset**.\n",
        "\n",
        "---\n",
        "\n",
        "```python\n",
        "plt.scatter(x_train, y_train_pred)  # predicted\n",
        "```\n",
        "- **`plt.scatter(x_train, y_train_pred)`**:\n",
        "  - Plots the **predicted Sales values** (orange dots).\n",
        "  - **X-axis:** `x_train` (TV ad spend).\n",
        "  - **Y-axis:** `y_train_pred` (Predicted Sales from the model).\n",
        "  - The **closer the predicted points are to the actual points, the better the model’s accuracy**.\n",
        "\n",
        "---\n",
        "\n",
        "```python\n",
        "plt.show()\n",
        "```\n",
        "- Displays the scatter plot.\n",
        "\n",
        "---\n",
        "\n",
        "## **Understanding the Plot**\n",
        "- **Blue Dots (Actual Sales):** Represent real-world observations.\n",
        "- **Orange Dots (Predicted Sales):** Represent model-generated predictions.\n",
        "- **If orange dots align closely with blue dots**, the model is making **accurate predictions**.\n",
        "\n",
        "---\n",
        "\n",
        "### **Key Takeaways**\n",
        "1. **A well-fitted regression model should have predicted values closely following actual values**.\n",
        "2. **If the orange dots deviate significantly**, the model may be **missing key features or overfitting/underfitting**.\n",
        "3. **The model appears to be working well**, as the predictions align closely with actual values.\n"
      ],
      "metadata": {
        "id": "pGWxDOkHBVEg"
      }
    }
  ]
}